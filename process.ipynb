{
 "cells": [
  {
   "cell_type": "markdown",
   "id": "59499fac",
   "metadata": {},
   "source": [
    "# batches "
   ]
  },
  {
   "cell_type": "code",
   "execution_count": 1,
   "id": "8666e0c7",
   "metadata": {},
   "outputs": [
    {
     "name": "stdout",
     "output_type": "stream",
     "text": [
      "Images have been segregated into batches.\n"
     ]
    }
   ],
   "source": [
    "import os\n",
    "import shutil\n",
    "\n",
    "# Specify the directory where the images are stored\n",
    "src_folder = r\"C:\\Users\\Admin\\Downloads\\images-20240918T052943Z-001\\images\"\n",
    "\n",
    "# Specify the destination folder where batches will be created\n",
    "dst_folder =r\"C:\\Users\\Admin\\Downloads\\dataset\\batch_input\"\n",
    "\n",
    "# Create destination folders for the batches\n",
    "batch_size = 2000\n",
    "num_batches = 2\n",
    "\n",
    "# Create destination directories for the batches\n",
    "for i in range(1, num_batches + 1):\n",
    "    os.makedirs(os.path.join(dst_folder, f\"batch_{i}\"), exist_ok=True)\n",
    "\n",
    "# Get a list of all image files in the source directory\n",
    "all_images = [f for f in os.listdir(src_folder) if os.path.isfile(os.path.join(src_folder, f))]\n",
    "\n",
    "# Sort images to maintain a consistent order\n",
    "all_images.sort()\n",
    "\n",
    "# Loop over the images and move them into respective batch folders\n",
    "for i, image in enumerate(all_images):\n",
    "    batch_num = (i // batch_size) + 1\n",
    "    if batch_num > num_batches:\n",
    "        break  # Stop if we've reached the maximum number of batches\n",
    "    # Move the image to the corresponding batch folder\n",
    "    shutil.move(os.path.join(src_folder, image), os.path.join(dst_folder, f\"batch_{batch_num}\", image))\n",
    "\n",
    "print(\"Images have been segregated into batches.\")\n"
   ]
  },
  {
   "cell_type": "markdown",
   "id": "20638ba7",
   "metadata": {},
   "source": [
    "# Normalize 0-1"
   ]
  },
  {
   "cell_type": "code",
   "execution_count": 2,
   "id": "a3ce6bd6",
   "metadata": {},
   "outputs": [
    {
     "name": "stdout",
     "output_type": "stream",
     "text": [
      "Images normalized and saved successfully!\n"
     ]
    }
   ],
   "source": [
    "import os\n",
    "from PIL import Image\n",
    "import numpy as np\n",
    "\n",
    "# Directory containing the images to be normalized\n",
    "input_folder = r\"C:\\Users\\Admin\\Downloads\\dataset\\batch_input\\batch_1\"\n",
    "# Directory to save normalized images\n",
    "output_folder = r\"C:\\Users\\Admin\\Downloads\\dataset\\batch_input\\normz_input\"\n",
    "\n",
    "# Create output folder if it doesn't exist\n",
    "os.makedirs(output_folder, exist_ok=True)\n",
    "\n",
    "# Normalize function to convert image pixel values to range [0, 1]\n",
    "def normalize_image(image):\n",
    "    # Convert the image to a NumPy array\n",
    "    image_array = np.asarray(image, dtype=np.float32)\n",
    "    \n",
    "    # Normalize the array values to the range [0, 1]\n",
    "    normalized_array = image_array / 255.0\n",
    "    \n",
    "    # Convert back to Image object\n",
    "    normalized_image = Image.fromarray((normalized_array * 255).astype(np.uint8))\n",
    "    \n",
    "    return normalized_image\n",
    "\n",
    "# Loop through each image in the input folder\n",
    "for image_name in os.listdir(input_folder):\n",
    "    if image_name.endswith(('.png', '.jpg', '.jpeg', '.bmp', '.tiff')):  # Add more extensions if needed\n",
    "        # Open the image\n",
    "        image_path = os.path.join(input_folder, image_name)\n",
    "        image = Image.open(image_path)\n",
    "        \n",
    "        # Normalize the image\n",
    "        normalized_image = normalize_image(image)\n",
    "        \n",
    "        # Save the normalized image in the output folder\n",
    "        normalized_image.save(os.path.join(output_folder, image_name))\n",
    "\n",
    "print(\"Images normalized and saved successfully!\")\n"
   ]
  },
  {
   "cell_type": "markdown",
   "id": "61b46f48",
   "metadata": {},
   "source": [
    "# check Anomaly by frequency "
   ]
  },
  {
   "cell_type": "code",
   "execution_count": 6,
   "id": "40963d95",
   "metadata": {},
   "outputs": [
    {
     "name": "stderr",
     "output_type": "stream",
     "text": [
      "C:\\Users\\Admin\\anaconda3\\Lib\\site-packages\\sklearn\\base.py:1473: ConvergenceWarning: Number of distinct clusters (11) found smaller than n_clusters (249). Possibly due to duplicate points in X.\n",
      "  return fit_method(estimator, *args, **kwargs)\n"
     ]
    },
    {
     "name": "stdout",
     "output_type": "stream",
     "text": [
      "Defect detected (0th grayscale value is non-zero)\n"
     ]
    },
    {
     "name": "stderr",
     "output_type": "stream",
     "text": [
      "C:\\Users\\Admin\\anaconda3\\Lib\\site-packages\\sklearn\\base.py:1473: ConvergenceWarning: Number of distinct clusters (12) found smaller than n_clusters (249). Possibly due to duplicate points in X.\n",
      "  return fit_method(estimator, *args, **kwargs)\n"
     ]
    },
    {
     "name": "stdout",
     "output_type": "stream",
     "text": [
      "Defect detected (0th grayscale value is non-zero)\n"
     ]
    },
    {
     "name": "stderr",
     "output_type": "stream",
     "text": [
      "C:\\Users\\Admin\\anaconda3\\Lib\\site-packages\\sklearn\\base.py:1473: ConvergenceWarning: Number of distinct clusters (11) found smaller than n_clusters (249). Possibly due to duplicate points in X.\n",
      "  return fit_method(estimator, *args, **kwargs)\n"
     ]
    },
    {
     "name": "stdout",
     "output_type": "stream",
     "text": [
      "Defect detected (0th grayscale value is non-zero)\n"
     ]
    },
    {
     "name": "stderr",
     "output_type": "stream",
     "text": [
      "C:\\Users\\Admin\\anaconda3\\Lib\\site-packages\\sklearn\\base.py:1473: ConvergenceWarning: Number of distinct clusters (12) found smaller than n_clusters (249). Possibly due to duplicate points in X.\n",
      "  return fit_method(estimator, *args, **kwargs)\n"
     ]
    },
    {
     "name": "stdout",
     "output_type": "stream",
     "text": [
      "Defect detected (0th grayscale value is non-zero)\n"
     ]
    },
    {
     "name": "stderr",
     "output_type": "stream",
     "text": [
      "C:\\Users\\Admin\\anaconda3\\Lib\\site-packages\\sklearn\\base.py:1473: ConvergenceWarning: Number of distinct clusters (12) found smaller than n_clusters (249). Possibly due to duplicate points in X.\n",
      "  return fit_method(estimator, *args, **kwargs)\n"
     ]
    },
    {
     "name": "stdout",
     "output_type": "stream",
     "text": [
      "Defect detected (0th grayscale value is non-zero)\n"
     ]
    },
    {
     "name": "stderr",
     "output_type": "stream",
     "text": [
      "C:\\Users\\Admin\\anaconda3\\Lib\\site-packages\\sklearn\\base.py:1473: ConvergenceWarning: Number of distinct clusters (12) found smaller than n_clusters (249). Possibly due to duplicate points in X.\n",
      "  return fit_method(estimator, *args, **kwargs)\n"
     ]
    },
    {
     "name": "stdout",
     "output_type": "stream",
     "text": [
      "Defect detected (0th grayscale value is non-zero)\n"
     ]
    },
    {
     "name": "stderr",
     "output_type": "stream",
     "text": [
      "C:\\Users\\Admin\\anaconda3\\Lib\\site-packages\\sklearn\\base.py:1473: ConvergenceWarning: Number of distinct clusters (12) found smaller than n_clusters (249). Possibly due to duplicate points in X.\n",
      "  return fit_method(estimator, *args, **kwargs)\n"
     ]
    },
    {
     "name": "stdout",
     "output_type": "stream",
     "text": [
      "Defect detected (0th grayscale value is non-zero)\n"
     ]
    },
    {
     "name": "stderr",
     "output_type": "stream",
     "text": [
      "C:\\Users\\Admin\\anaconda3\\Lib\\site-packages\\sklearn\\base.py:1473: ConvergenceWarning: Number of distinct clusters (12) found smaller than n_clusters (249). Possibly due to duplicate points in X.\n",
      "  return fit_method(estimator, *args, **kwargs)\n"
     ]
    },
    {
     "name": "stdout",
     "output_type": "stream",
     "text": [
      "Defect detected (0th grayscale value is non-zero)\n"
     ]
    },
    {
     "name": "stderr",
     "output_type": "stream",
     "text": [
      "C:\\Users\\Admin\\anaconda3\\Lib\\site-packages\\sklearn\\base.py:1473: ConvergenceWarning: Number of distinct clusters (12) found smaller than n_clusters (249). Possibly due to duplicate points in X.\n",
      "  return fit_method(estimator, *args, **kwargs)\n"
     ]
    },
    {
     "name": "stdout",
     "output_type": "stream",
     "text": [
      "Defect detected (0th grayscale value is non-zero)\n"
     ]
    },
    {
     "name": "stderr",
     "output_type": "stream",
     "text": [
      "C:\\Users\\Admin\\anaconda3\\Lib\\site-packages\\sklearn\\base.py:1473: ConvergenceWarning: Number of distinct clusters (12) found smaller than n_clusters (249). Possibly due to duplicate points in X.\n",
      "  return fit_method(estimator, *args, **kwargs)\n"
     ]
    },
    {
     "name": "stdout",
     "output_type": "stream",
     "text": [
      "Defect detected (0th grayscale value is non-zero)\n"
     ]
    },
    {
     "name": "stderr",
     "output_type": "stream",
     "text": [
      "C:\\Users\\Admin\\anaconda3\\Lib\\site-packages\\sklearn\\base.py:1473: ConvergenceWarning: Number of distinct clusters (12) found smaller than n_clusters (249). Possibly due to duplicate points in X.\n",
      "  return fit_method(estimator, *args, **kwargs)\n"
     ]
    },
    {
     "name": "stdout",
     "output_type": "stream",
     "text": [
      "Defect detected (0th grayscale value is non-zero)\n"
     ]
    },
    {
     "name": "stderr",
     "output_type": "stream",
     "text": [
      "C:\\Users\\Admin\\anaconda3\\Lib\\site-packages\\sklearn\\base.py:1473: ConvergenceWarning: Number of distinct clusters (12) found smaller than n_clusters (249). Possibly due to duplicate points in X.\n",
      "  return fit_method(estimator, *args, **kwargs)\n"
     ]
    },
    {
     "name": "stdout",
     "output_type": "stream",
     "text": [
      "Defect detected (0th grayscale value is non-zero)\n"
     ]
    },
    {
     "name": "stderr",
     "output_type": "stream",
     "text": [
      "C:\\Users\\Admin\\anaconda3\\Lib\\site-packages\\sklearn\\base.py:1473: ConvergenceWarning: Number of distinct clusters (12) found smaller than n_clusters (249). Possibly due to duplicate points in X.\n",
      "  return fit_method(estimator, *args, **kwargs)\n"
     ]
    },
    {
     "name": "stdout",
     "output_type": "stream",
     "text": [
      "Defect detected (0th grayscale value is non-zero)\n"
     ]
    },
    {
     "name": "stderr",
     "output_type": "stream",
     "text": [
      "C:\\Users\\Admin\\anaconda3\\Lib\\site-packages\\sklearn\\base.py:1473: ConvergenceWarning: Number of distinct clusters (12) found smaller than n_clusters (249). Possibly due to duplicate points in X.\n",
      "  return fit_method(estimator, *args, **kwargs)\n"
     ]
    },
    {
     "name": "stdout",
     "output_type": "stream",
     "text": [
      "Defect detected (0th grayscale value is non-zero)\n"
     ]
    },
    {
     "name": "stderr",
     "output_type": "stream",
     "text": [
      "C:\\Users\\Admin\\anaconda3\\Lib\\site-packages\\sklearn\\base.py:1473: ConvergenceWarning: Number of distinct clusters (12) found smaller than n_clusters (249). Possibly due to duplicate points in X.\n",
      "  return fit_method(estimator, *args, **kwargs)\n"
     ]
    },
    {
     "name": "stdout",
     "output_type": "stream",
     "text": [
      "Defect detected (0th grayscale value is non-zero)\n"
     ]
    },
    {
     "name": "stderr",
     "output_type": "stream",
     "text": [
      "C:\\Users\\Admin\\anaconda3\\Lib\\site-packages\\sklearn\\base.py:1473: ConvergenceWarning: Number of distinct clusters (12) found smaller than n_clusters (249). Possibly due to duplicate points in X.\n",
      "  return fit_method(estimator, *args, **kwargs)\n"
     ]
    },
    {
     "name": "stdout",
     "output_type": "stream",
     "text": [
      "Defect detected (0th grayscale value is non-zero)\n"
     ]
    },
    {
     "name": "stderr",
     "output_type": "stream",
     "text": [
      "C:\\Users\\Admin\\anaconda3\\Lib\\site-packages\\sklearn\\base.py:1473: ConvergenceWarning: Number of distinct clusters (12) found smaller than n_clusters (249). Possibly due to duplicate points in X.\n",
      "  return fit_method(estimator, *args, **kwargs)\n"
     ]
    },
    {
     "name": "stdout",
     "output_type": "stream",
     "text": [
      "Defect detected (0th grayscale value is non-zero)\n"
     ]
    },
    {
     "name": "stderr",
     "output_type": "stream",
     "text": [
      "C:\\Users\\Admin\\anaconda3\\Lib\\site-packages\\sklearn\\base.py:1473: ConvergenceWarning: Number of distinct clusters (12) found smaller than n_clusters (249). Possibly due to duplicate points in X.\n",
      "  return fit_method(estimator, *args, **kwargs)\n"
     ]
    },
    {
     "name": "stdout",
     "output_type": "stream",
     "text": [
      "Defect detected (0th grayscale value is non-zero)\n"
     ]
    },
    {
     "name": "stderr",
     "output_type": "stream",
     "text": [
      "C:\\Users\\Admin\\anaconda3\\Lib\\site-packages\\sklearn\\base.py:1473: ConvergenceWarning: Number of distinct clusters (11) found smaller than n_clusters (249). Possibly due to duplicate points in X.\n",
      "  return fit_method(estimator, *args, **kwargs)\n"
     ]
    },
    {
     "name": "stdout",
     "output_type": "stream",
     "text": [
      "Defect detected (0th grayscale value is non-zero)\n"
     ]
    },
    {
     "name": "stderr",
     "output_type": "stream",
     "text": [
      "C:\\Users\\Admin\\anaconda3\\Lib\\site-packages\\sklearn\\base.py:1473: ConvergenceWarning: Number of distinct clusters (12) found smaller than n_clusters (249). Possibly due to duplicate points in X.\n",
      "  return fit_method(estimator, *args, **kwargs)\n"
     ]
    },
    {
     "name": "stdout",
     "output_type": "stream",
     "text": [
      "Defect detected (0th grayscale value is non-zero)\n"
     ]
    },
    {
     "name": "stderr",
     "output_type": "stream",
     "text": [
      "C:\\Users\\Admin\\anaconda3\\Lib\\site-packages\\sklearn\\base.py:1473: ConvergenceWarning: Number of distinct clusters (13) found smaller than n_clusters (249). Possibly due to duplicate points in X.\n",
      "  return fit_method(estimator, *args, **kwargs)\n"
     ]
    },
    {
     "name": "stdout",
     "output_type": "stream",
     "text": [
      "Defect detected (0th grayscale value is non-zero)\n"
     ]
    },
    {
     "name": "stderr",
     "output_type": "stream",
     "text": [
      "C:\\Users\\Admin\\anaconda3\\Lib\\site-packages\\sklearn\\base.py:1473: ConvergenceWarning: Number of distinct clusters (12) found smaller than n_clusters (249). Possibly due to duplicate points in X.\n",
      "  return fit_method(estimator, *args, **kwargs)\n"
     ]
    },
    {
     "name": "stdout",
     "output_type": "stream",
     "text": [
      "Defect detected (0th grayscale value is non-zero)\n"
     ]
    },
    {
     "name": "stderr",
     "output_type": "stream",
     "text": [
      "C:\\Users\\Admin\\anaconda3\\Lib\\site-packages\\sklearn\\base.py:1473: ConvergenceWarning: Number of distinct clusters (12) found smaller than n_clusters (249). Possibly due to duplicate points in X.\n",
      "  return fit_method(estimator, *args, **kwargs)\n"
     ]
    },
    {
     "name": "stdout",
     "output_type": "stream",
     "text": [
      "Defect detected (0th grayscale value is non-zero)\n"
     ]
    },
    {
     "name": "stderr",
     "output_type": "stream",
     "text": [
      "C:\\Users\\Admin\\anaconda3\\Lib\\site-packages\\sklearn\\base.py:1473: ConvergenceWarning: Number of distinct clusters (12) found smaller than n_clusters (249). Possibly due to duplicate points in X.\n",
      "  return fit_method(estimator, *args, **kwargs)\n"
     ]
    },
    {
     "name": "stdout",
     "output_type": "stream",
     "text": [
      "Defect detected (0th grayscale value is non-zero)\n"
     ]
    },
    {
     "name": "stderr",
     "output_type": "stream",
     "text": [
      "C:\\Users\\Admin\\anaconda3\\Lib\\site-packages\\sklearn\\base.py:1473: ConvergenceWarning: Number of distinct clusters (12) found smaller than n_clusters (249). Possibly due to duplicate points in X.\n",
      "  return fit_method(estimator, *args, **kwargs)\n"
     ]
    },
    {
     "name": "stdout",
     "output_type": "stream",
     "text": [
      "Defect detected (0th grayscale value is non-zero)\n"
     ]
    },
    {
     "name": "stderr",
     "output_type": "stream",
     "text": [
      "C:\\Users\\Admin\\anaconda3\\Lib\\site-packages\\sklearn\\base.py:1473: ConvergenceWarning: Number of distinct clusters (12) found smaller than n_clusters (249). Possibly due to duplicate points in X.\n",
      "  return fit_method(estimator, *args, **kwargs)\n"
     ]
    },
    {
     "name": "stdout",
     "output_type": "stream",
     "text": [
      "Defect detected (0th grayscale value is non-zero)\n"
     ]
    },
    {
     "name": "stderr",
     "output_type": "stream",
     "text": [
      "C:\\Users\\Admin\\anaconda3\\Lib\\site-packages\\sklearn\\base.py:1473: ConvergenceWarning: Number of distinct clusters (12) found smaller than n_clusters (249). Possibly due to duplicate points in X.\n",
      "  return fit_method(estimator, *args, **kwargs)\n"
     ]
    },
    {
     "name": "stdout",
     "output_type": "stream",
     "text": [
      "Defect detected (0th grayscale value is non-zero)\n"
     ]
    },
    {
     "name": "stderr",
     "output_type": "stream",
     "text": [
      "C:\\Users\\Admin\\anaconda3\\Lib\\site-packages\\sklearn\\base.py:1473: ConvergenceWarning: Number of distinct clusters (12) found smaller than n_clusters (249). Possibly due to duplicate points in X.\n",
      "  return fit_method(estimator, *args, **kwargs)\n"
     ]
    },
    {
     "name": "stdout",
     "output_type": "stream",
     "text": [
      "Defect detected (0th grayscale value is non-zero)\n"
     ]
    },
    {
     "name": "stderr",
     "output_type": "stream",
     "text": [
      "C:\\Users\\Admin\\anaconda3\\Lib\\site-packages\\sklearn\\base.py:1473: ConvergenceWarning: Number of distinct clusters (12) found smaller than n_clusters (249). Possibly due to duplicate points in X.\n",
      "  return fit_method(estimator, *args, **kwargs)\n"
     ]
    },
    {
     "name": "stdout",
     "output_type": "stream",
     "text": [
      "Defect detected (0th grayscale value is non-zero)\n"
     ]
    },
    {
     "name": "stderr",
     "output_type": "stream",
     "text": [
      "C:\\Users\\Admin\\anaconda3\\Lib\\site-packages\\sklearn\\base.py:1473: ConvergenceWarning: Number of distinct clusters (12) found smaller than n_clusters (249). Possibly due to duplicate points in X.\n",
      "  return fit_method(estimator, *args, **kwargs)\n"
     ]
    },
    {
     "name": "stdout",
     "output_type": "stream",
     "text": [
      "Defect detected (0th grayscale value is non-zero)\n"
     ]
    },
    {
     "name": "stderr",
     "output_type": "stream",
     "text": [
      "C:\\Users\\Admin\\anaconda3\\Lib\\site-packages\\sklearn\\base.py:1473: ConvergenceWarning: Number of distinct clusters (12) found smaller than n_clusters (249). Possibly due to duplicate points in X.\n",
      "  return fit_method(estimator, *args, **kwargs)\n"
     ]
    },
    {
     "name": "stdout",
     "output_type": "stream",
     "text": [
      "Defect detected (0th grayscale value is non-zero)\n"
     ]
    },
    {
     "name": "stderr",
     "output_type": "stream",
     "text": [
      "C:\\Users\\Admin\\anaconda3\\Lib\\site-packages\\sklearn\\base.py:1473: ConvergenceWarning: Number of distinct clusters (12) found smaller than n_clusters (249). Possibly due to duplicate points in X.\n",
      "  return fit_method(estimator, *args, **kwargs)\n"
     ]
    },
    {
     "name": "stdout",
     "output_type": "stream",
     "text": [
      "Defect detected (0th grayscale value is non-zero)\n"
     ]
    },
    {
     "name": "stderr",
     "output_type": "stream",
     "text": [
      "C:\\Users\\Admin\\anaconda3\\Lib\\site-packages\\sklearn\\base.py:1473: ConvergenceWarning: Number of distinct clusters (12) found smaller than n_clusters (249). Possibly due to duplicate points in X.\n",
      "  return fit_method(estimator, *args, **kwargs)\n"
     ]
    },
    {
     "name": "stdout",
     "output_type": "stream",
     "text": [
      "Defect detected (0th grayscale value is non-zero)\n"
     ]
    },
    {
     "name": "stderr",
     "output_type": "stream",
     "text": [
      "C:\\Users\\Admin\\anaconda3\\Lib\\site-packages\\sklearn\\base.py:1473: ConvergenceWarning: Number of distinct clusters (12) found smaller than n_clusters (249). Possibly due to duplicate points in X.\n",
      "  return fit_method(estimator, *args, **kwargs)\n"
     ]
    },
    {
     "name": "stdout",
     "output_type": "stream",
     "text": [
      "Defect detected (0th grayscale value is non-zero)\n"
     ]
    },
    {
     "name": "stderr",
     "output_type": "stream",
     "text": [
      "C:\\Users\\Admin\\anaconda3\\Lib\\site-packages\\sklearn\\base.py:1473: ConvergenceWarning: Number of distinct clusters (12) found smaller than n_clusters (249). Possibly due to duplicate points in X.\n",
      "  return fit_method(estimator, *args, **kwargs)\n"
     ]
    },
    {
     "name": "stdout",
     "output_type": "stream",
     "text": [
      "Defect detected (0th grayscale value is non-zero)\n"
     ]
    },
    {
     "name": "stderr",
     "output_type": "stream",
     "text": [
      "C:\\Users\\Admin\\anaconda3\\Lib\\site-packages\\sklearn\\base.py:1473: ConvergenceWarning: Number of distinct clusters (12) found smaller than n_clusters (249). Possibly due to duplicate points in X.\n",
      "  return fit_method(estimator, *args, **kwargs)\n"
     ]
    },
    {
     "name": "stdout",
     "output_type": "stream",
     "text": [
      "Defect detected (0th grayscale value is non-zero)\n"
     ]
    },
    {
     "name": "stderr",
     "output_type": "stream",
     "text": [
      "C:\\Users\\Admin\\anaconda3\\Lib\\site-packages\\sklearn\\base.py:1473: ConvergenceWarning: Number of distinct clusters (12) found smaller than n_clusters (249). Possibly due to duplicate points in X.\n",
      "  return fit_method(estimator, *args, **kwargs)\n"
     ]
    },
    {
     "name": "stdout",
     "output_type": "stream",
     "text": [
      "Defect detected (0th grayscale value is non-zero)\n"
     ]
    },
    {
     "name": "stderr",
     "output_type": "stream",
     "text": [
      "C:\\Users\\Admin\\anaconda3\\Lib\\site-packages\\sklearn\\base.py:1473: ConvergenceWarning: Number of distinct clusters (12) found smaller than n_clusters (249). Possibly due to duplicate points in X.\n",
      "  return fit_method(estimator, *args, **kwargs)\n"
     ]
    },
    {
     "name": "stdout",
     "output_type": "stream",
     "text": [
      "Defect detected (0th grayscale value is non-zero)\n"
     ]
    },
    {
     "name": "stderr",
     "output_type": "stream",
     "text": [
      "C:\\Users\\Admin\\anaconda3\\Lib\\site-packages\\sklearn\\base.py:1473: ConvergenceWarning: Number of distinct clusters (12) found smaller than n_clusters (249). Possibly due to duplicate points in X.\n",
      "  return fit_method(estimator, *args, **kwargs)\n"
     ]
    },
    {
     "name": "stdout",
     "output_type": "stream",
     "text": [
      "Defect detected (0th grayscale value is non-zero)\n"
     ]
    },
    {
     "name": "stderr",
     "output_type": "stream",
     "text": [
      "C:\\Users\\Admin\\anaconda3\\Lib\\site-packages\\sklearn\\base.py:1473: ConvergenceWarning: Number of distinct clusters (13) found smaller than n_clusters (249). Possibly due to duplicate points in X.\n",
      "  return fit_method(estimator, *args, **kwargs)\n"
     ]
    },
    {
     "name": "stdout",
     "output_type": "stream",
     "text": [
      "Defect detected (0th grayscale value is non-zero)\n"
     ]
    },
    {
     "name": "stderr",
     "output_type": "stream",
     "text": [
      "C:\\Users\\Admin\\anaconda3\\Lib\\site-packages\\sklearn\\base.py:1473: ConvergenceWarning: Number of distinct clusters (12) found smaller than n_clusters (249). Possibly due to duplicate points in X.\n",
      "  return fit_method(estimator, *args, **kwargs)\n"
     ]
    },
    {
     "name": "stdout",
     "output_type": "stream",
     "text": [
      "Defect detected (0th grayscale value is non-zero)\n"
     ]
    },
    {
     "name": "stderr",
     "output_type": "stream",
     "text": [
      "C:\\Users\\Admin\\anaconda3\\Lib\\site-packages\\sklearn\\base.py:1473: ConvergenceWarning: Number of distinct clusters (12) found smaller than n_clusters (249). Possibly due to duplicate points in X.\n",
      "  return fit_method(estimator, *args, **kwargs)\n"
     ]
    },
    {
     "name": "stdout",
     "output_type": "stream",
     "text": [
      "Defect detected (0th grayscale value is non-zero)\n"
     ]
    },
    {
     "name": "stderr",
     "output_type": "stream",
     "text": [
      "C:\\Users\\Admin\\anaconda3\\Lib\\site-packages\\sklearn\\base.py:1473: ConvergenceWarning: Number of distinct clusters (12) found smaller than n_clusters (249). Possibly due to duplicate points in X.\n",
      "  return fit_method(estimator, *args, **kwargs)\n"
     ]
    },
    {
     "name": "stdout",
     "output_type": "stream",
     "text": [
      "Defect detected (0th grayscale value is non-zero)\n"
     ]
    },
    {
     "name": "stderr",
     "output_type": "stream",
     "text": [
      "C:\\Users\\Admin\\anaconda3\\Lib\\site-packages\\sklearn\\base.py:1473: ConvergenceWarning: Number of distinct clusters (12) found smaller than n_clusters (249). Possibly due to duplicate points in X.\n",
      "  return fit_method(estimator, *args, **kwargs)\n"
     ]
    },
    {
     "name": "stdout",
     "output_type": "stream",
     "text": [
      "Defect detected (0th grayscale value is non-zero)\n"
     ]
    },
    {
     "name": "stderr",
     "output_type": "stream",
     "text": [
      "C:\\Users\\Admin\\anaconda3\\Lib\\site-packages\\sklearn\\base.py:1473: ConvergenceWarning: Number of distinct clusters (12) found smaller than n_clusters (249). Possibly due to duplicate points in X.\n",
      "  return fit_method(estimator, *args, **kwargs)\n"
     ]
    },
    {
     "name": "stdout",
     "output_type": "stream",
     "text": [
      "Defect detected (0th grayscale value is non-zero)\n"
     ]
    },
    {
     "name": "stderr",
     "output_type": "stream",
     "text": [
      "C:\\Users\\Admin\\anaconda3\\Lib\\site-packages\\sklearn\\base.py:1473: ConvergenceWarning: Number of distinct clusters (12) found smaller than n_clusters (249). Possibly due to duplicate points in X.\n",
      "  return fit_method(estimator, *args, **kwargs)\n"
     ]
    },
    {
     "name": "stdout",
     "output_type": "stream",
     "text": [
      "Defect detected (0th grayscale value is non-zero)\n"
     ]
    },
    {
     "name": "stderr",
     "output_type": "stream",
     "text": [
      "C:\\Users\\Admin\\anaconda3\\Lib\\site-packages\\sklearn\\base.py:1473: ConvergenceWarning: Number of distinct clusters (12) found smaller than n_clusters (249). Possibly due to duplicate points in X.\n",
      "  return fit_method(estimator, *args, **kwargs)\n"
     ]
    },
    {
     "name": "stdout",
     "output_type": "stream",
     "text": [
      "Defect detected (0th grayscale value is non-zero)\n"
     ]
    },
    {
     "name": "stderr",
     "output_type": "stream",
     "text": [
      "C:\\Users\\Admin\\anaconda3\\Lib\\site-packages\\sklearn\\base.py:1473: ConvergenceWarning: Number of distinct clusters (12) found smaller than n_clusters (249). Possibly due to duplicate points in X.\n",
      "  return fit_method(estimator, *args, **kwargs)\n"
     ]
    },
    {
     "name": "stdout",
     "output_type": "stream",
     "text": [
      "Defect detected (0th grayscale value is non-zero)\n"
     ]
    },
    {
     "name": "stderr",
     "output_type": "stream",
     "text": [
      "C:\\Users\\Admin\\anaconda3\\Lib\\site-packages\\sklearn\\base.py:1473: ConvergenceWarning: Number of distinct clusters (12) found smaller than n_clusters (249). Possibly due to duplicate points in X.\n",
      "  return fit_method(estimator, *args, **kwargs)\n"
     ]
    },
    {
     "name": "stdout",
     "output_type": "stream",
     "text": [
      "Defect detected (0th grayscale value is non-zero)\n"
     ]
    },
    {
     "name": "stderr",
     "output_type": "stream",
     "text": [
      "C:\\Users\\Admin\\anaconda3\\Lib\\site-packages\\sklearn\\base.py:1473: ConvergenceWarning: Number of distinct clusters (12) found smaller than n_clusters (249). Possibly due to duplicate points in X.\n",
      "  return fit_method(estimator, *args, **kwargs)\n"
     ]
    },
    {
     "name": "stdout",
     "output_type": "stream",
     "text": [
      "Defect detected (0th grayscale value is non-zero)\n",
      "Processing complete! Scatter plots have been saved.\n"
     ]
    }
   ],
   "source": [
    "import os\n",
    "import numpy as np\n",
    "import matplotlib.pyplot as plt\n",
    "from PIL import Image\n",
    "from skimage import io\n",
    "from sklearn.cluster import KMeans\n",
    "from matplotlib import cm\n",
    "\n",
    "# Set up font size and plot settings\n",
    "fontSize = 15\n",
    "plt.rcParams.update({'font.size': fontSize})\n",
    "\n",
    "#===============================================================================\n",
    "# Folder paths\n",
    "import os\n",
    "\n",
    "# Folder paths\n",
    "input_folder = r\"C:\\Users\\Admin\\Downloads\\dataset\\good\"  # Folder containing images\n",
    "output_folder = r\"C:\\Users\\Admin\\Downloads\\dataset\\old_good\"  # Folder to save scatter plots\n",
    "\n",
    "# Create output folder if it doesn't exist\n",
    "os.makedirs(output_folder, exist_ok=True)\n",
    "\n",
    "# Continue with the rest of the script...\n",
    "\n",
    "\n",
    "# Function to process and generate scatter plot for a single image\n",
    "def process_image(image_path, output_folder):\n",
    "    # Read in the image\n",
    "    originalRGBImage = io.imread(image_path)\n",
    "\n",
    "    # Set up a subplot of 2 rows and 3 columns\n",
    "    fig, axs = plt.subplots(2, 3, figsize=(15, 10))\n",
    "\n",
    "    # Display the original image\n",
    "    axs[0, 0].imshow(originalRGBImage)\n",
    "    axs[0, 0].axis('on')\n",
    "    caption = f'Original Pseudocolor Image, {os.path.basename(image_path)}'\n",
    "    axs[0, 0].set_title(caption)\n",
    "\n",
    "    # Convert the image to grayscale using the minimum value across the color channels\n",
    "    grayImage = np.min(originalRGBImage, axis=2)\n",
    "\n",
    "    # Crop off the surrounding clutter to get the colorbar\n",
    "    colorBarImage = originalRGBImage[45:45+249, 533:533+13, :]\n",
    "\n",
    "    # Crop off the surrounding clutter to get the RGB image\n",
    "    rgbImage = originalRGBImage[40:40+259, 20:20+441, :]\n",
    "\n",
    "    # Get the dimensions of the cropped RGB image\n",
    "    rows, columns, numberOfColorChannels = rgbImage.shape\n",
    "\n",
    "    # Display the cropped RGB image\n",
    "    axs[0, 1].imshow(rgbImage)\n",
    "    axs[0, 1].axis('on')\n",
    "    caption = 'Cropped Pseudocolor Image'\n",
    "    axs[0, 1].set_title(caption)\n",
    "\n",
    "    # Display the colorbar image\n",
    "    axs[0, 2].imshow(colorBarImage)\n",
    "    axs[0, 2].axis('on')\n",
    "    caption = 'Cropped Colorbar Image'\n",
    "    axs[0, 2].set_title(caption)\n",
    "\n",
    "    # Set up figure properties (adjust window and remove unnecessary toolbars)\n",
    "    fig.subplots_adjust(top=0.9, bottom=0.05, left=0.05, right=0.95, hspace=0.3, wspace=0.3)\n",
    "    fig.suptitle('Demo by ImageAnalyst', fontsize=20)\n",
    "\n",
    "    # Get the color map from the color bar image\n",
    "    storedColorMap = colorBarImage[:, 0, :].astype(float) / 255.0\n",
    "\n",
    "    # Flatten the RGB image to apply KMeans clustering for quantization\n",
    "    flattened_rgb = rgbImage.reshape((-1, 3))\n",
    "\n",
    "    # Perform KMeans clustering to create an indexed image\n",
    "    n_colors = len(storedColorMap)  # Number of colors based on the color bar\n",
    "    kmeans = KMeans(n_clusters=n_colors, random_state=0).fit(flattened_rgb)\n",
    "    labels = kmeans.predict(flattened_rgb)\n",
    "\n",
    "    # Reshape the labels to form the indexed image\n",
    "    indexedImage = labels.reshape(rgbImage.shape[:2])\n",
    "\n",
    "    # Display the indexed image (gray scale)\n",
    "    axs[1, 0].imshow(indexedImage, cmap=cm.gray)\n",
    "    axs[1, 0].axis('on')\n",
    "    caption = 'Indexed Image (Gray Scale Thermal Image)'\n",
    "    axs[1, 0].set_title(caption)\n",
    "\n",
    "    # Generate the histogram data\n",
    "    hist_values, bins = np.histogram(indexedImage.ravel(), bins=n_colors, density=True)\n",
    "    bin_centers = (bins[:-1] + bins[1:]) / 2\n",
    "\n",
    "    # Scatter plot of the histogram data\n",
    "    axs[1, 2].scatter(bin_centers, hist_values, color='blue', edgecolor='black')\n",
    "    axs[1, 2].grid(True)\n",
    "    caption = 'Scatter Plot of Thermal Image Data'\n",
    "    axs[1, 2].set_title(caption)\n",
    "    axs[1, 2].set_xlabel('Gray Scale')\n",
    "    axs[1, 2].set_ylabel('Frequency')\n",
    "\n",
    "    # Check the 0th bin (grayscale level 0) for defect detection\n",
    "    defect_message = \"\"\n",
    "\n",
    "    # If the 0th bin has a non-zero value, mark it as a defect\n",
    "    if hist_values[0] > 0:\n",
    "        defect_message = \"Defect detected (0th grayscale value is non-zero)\"\n",
    "        print(defect_message)\n",
    "        axs[1, 1].text(bin_centers[0], max(hist_values) * 0.9, defect_message, fontsize=19, color='red')\n",
    "    else:\n",
    "        defect_message = \"No defect detected (0th grayscale value is zero)\"\n",
    "        print(defect_message)\n",
    "        axs[1, 1].text(bin_centers[0], max(hist_values) * 0.9, defect_message, fontsize=12, color='green')\n",
    "\n",
    "    # Save the scatter plot as a file\n",
    "    output_image_path = os.path.join(output_folder, f\"{os.path.basename(image_path).split('.')[0]}_scatter_plot.png\")\n",
    "    plt.savefig(output_image_path)\n",
    "\n",
    "    # Close the plot to free memory\n",
    "    plt.close()\n",
    "\n",
    "#===============================================================================\n",
    "# Loop through each image in the input folder and process it\n",
    "for image_file in os.listdir(input_folder):\n",
    "    if image_file.endswith(('.png', '.jpg', '.jpeg', '.bmp', '.tiff')):  # Add more extensions if needed\n",
    "        image_path = os.path.join(input_folder, image_file)\n",
    "        process_image(image_path, output_folder)\n",
    "\n",
    "print(\"Processing complete! Scatter plots have been saved.\")\n"
   ]
  },
  {
   "cell_type": "code",
   "execution_count": null,
   "id": "5c83106e",
   "metadata": {},
   "outputs": [],
   "source": []
  }
 ],
 "metadata": {
  "kernelspec": {
   "display_name": "Python 3 (ipykernel)",
   "language": "python",
   "name": "python3"
  },
  "language_info": {
   "codemirror_mode": {
    "name": "ipython",
    "version": 3
   },
   "file_extension": ".py",
   "mimetype": "text/x-python",
   "name": "python",
   "nbconvert_exporter": "python",
   "pygments_lexer": "ipython3",
   "version": "3.11.5"
  }
 },
 "nbformat": 4,
 "nbformat_minor": 5
}
